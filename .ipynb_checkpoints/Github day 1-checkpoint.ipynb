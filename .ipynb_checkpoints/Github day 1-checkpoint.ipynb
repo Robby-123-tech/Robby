{
 "cells": [
  {
   "cell_type": "code",
   "execution_count": 12,
   "id": "8f4b1a4f-9e9c-4217-8fae-469ec9f366c7",
   "metadata": {},
   "outputs": [],
   "source": [
    "Dama = {\n",
    "    \"Full Name\": \"Clyne Robby\",\n",
    "    \"age\": 50,\n",
    "    \"Country\": \"Kenya\",\n",
    "    \"Marital Status\": \"Complicated\"\n",
    ",}"
   ]
  },
  {
   "cell_type": "code",
   "execution_count": 14,
   "id": "4df3fb48-58be-406b-829d-964129219966",
   "metadata": {},
   "outputs": [
    {
     "data": {
      "text/plain": [
       "'Clyne Robby'"
      ]
     },
     "execution_count": 14,
     "metadata": {},
     "output_type": "execute_result"
    }
   ],
   "source": [
    "Dama[\"Full Name\"]\n"
   ]
  },
  {
   "cell_type": "code",
   "execution_count": null,
   "id": "2f367c13-c057-40ef-9e50-b4f552d8890f",
   "metadata": {},
   "outputs": [],
   "source": []
  },
  {
   "cell_type": "code",
   "execution_count": null,
   "id": "6a40f4b8-38e0-44f9-8d6b-ef22fe089e83",
   "metadata": {},
   "outputs": [],
   "source": []
  },
  {
   "cell_type": "code",
   "execution_count": null,
   "id": "d8cf000c-57a7-462e-9122-ac20e42f19e8",
   "metadata": {},
   "outputs": [],
   "source": []
  }
 ],
 "metadata": {
  "kernelspec": {
   "display_name": "Python 3 (ipykernel)",
   "language": "python",
   "name": "python3"
  },
  "language_info": {
   "codemirror_mode": {
    "name": "ipython",
    "version": 3
   },
   "file_extension": ".py",
   "mimetype": "text/x-python",
   "name": "python",
   "nbconvert_exporter": "python",
   "pygments_lexer": "ipython3",
   "version": "3.12.4"
  }
 },
 "nbformat": 4,
 "nbformat_minor": 5
}
