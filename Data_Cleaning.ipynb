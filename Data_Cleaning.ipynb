{
 "cells": [
  {
   "cell_type": "markdown",
   "id": "4fed0065-2bc1-41d5-8933-b7ad396cb287",
   "metadata": {},
   "source": [
    "# Data Cleaning"
   ]
  },
  {
   "cell_type": "markdown",
   "id": "3cbb5f2f-f703-4fe5-a9df-df8b22e9beec",
   "metadata": {},
   "source": [
    "Data cleaning, also known as data cleansing or data scrubbing, is the process of identifying and correcting (or removing) errors, inconsistencies, and inaccuracies in datasets. It ensures that the data is accurate, complete, and reliable for analysis and decision-making."
   ]
  },
  {
   "cell_type": "code",
   "execution_count": 15,
   "id": "5c8bc9b9-39a4-4e33-99e0-2c85785f086d",
   "metadata": {},
   "outputs": [
    {
     "name": "stdout",
     "output_type": "stream",
     "text": [
      "     ID     Name   Age    Salary  Join_Date        Country  Experience_Years  \\\n",
      "0  1002    David  35.0  1.000000 2020-12-05  United States                 5   \n",
      "1  1003      Eve  25.0  0.333333 2020-12-05         Mexico                 3   \n",
      "2  1005  Charlie  30.0  0.333333 2021-01-10  United States                 5   \n",
      "3  1006      Eve  40.0  0.511167 2021-01-10         Canada                 5   \n",
      "4  1007      Eve  30.0  0.511167 2021-03-15         Canada                 3   \n",
      "\n",
      "   Department_Finance  Department_HR  Department_IT  Department_nan  \n",
      "0                   0              0            0.0               1  \n",
      "1                   0              1            0.0               0  \n",
      "2                   0              0            0.0               1  \n",
      "3                   0              0            1.0               0  \n",
      "4                   0              0            1.0               0  \n"
     ]
    }
   ],
   "source": [
    "import pandas as pd\n",
    "\n",
    "# Load an Excel file\n",
    "df = pd.read_excel(\"raw_large_dataset.xlsx\", sheet_name=\"Sheet1\")\n",
    "\n",
    "# Display first few rows\n",
    "print(df.head())"
   ]
  },
  {
   "cell_type": "code",
   "execution_count": 16,
   "id": "7b560448-9d49-4226-9269-1edaa487aacc",
   "metadata": {},
   "outputs": [
    {
     "data": {
      "text/plain": [
       "ID                     0\n",
       "Name                   0\n",
       "Age                   11\n",
       "Salary                 9\n",
       "Join_Date              0\n",
       "Country                0\n",
       "Experience_Years       0\n",
       "Department_Finance     0\n",
       "Department_HR          0\n",
       "Department_IT          7\n",
       "Department_nan         0\n",
       "dtype: int64"
      ]
     },
     "execution_count": 16,
     "metadata": {},
     "output_type": "execute_result"
    }
   ],
   "source": [
    "# Check missing values\n",
    "missing_values = df.isnull().sum()\n",
    "missing_values"
   ]
  },
  {
   "cell_type": "code",
   "execution_count": 17,
   "id": "20b430e5-67fb-48bf-b92e-a2905c5ad81b",
   "metadata": {},
   "outputs": [
    {
     "name": "stderr",
     "output_type": "stream",
     "text": [
      "C:\\Users\\Fanuel\\AppData\\Local\\Temp\\ipykernel_15848\\2560028756.py:2: FutureWarning: A value is trying to be set on a copy of a DataFrame or Series through chained assignment using an inplace method.\n",
      "The behavior will change in pandas 3.0. This inplace method will never work because the intermediate object on which we are setting values always behaves as a copy.\n",
      "\n",
      "For example, when doing 'df[col].method(value, inplace=True)', try using 'df.method({col: value}, inplace=True)' or df[col] = df[col].method(value) instead, to perform the operation inplace on the original object.\n",
      "\n",
      "\n",
      "  df['Age'].fillna(df['Age'].median(), inplace=True)\n",
      "C:\\Users\\Fanuel\\AppData\\Local\\Temp\\ipykernel_15848\\2560028756.py:3: FutureWarning: A value is trying to be set on a copy of a DataFrame or Series through chained assignment using an inplace method.\n",
      "The behavior will change in pandas 3.0. This inplace method will never work because the intermediate object on which we are setting values always behaves as a copy.\n",
      "\n",
      "For example, when doing 'df[col].method(value, inplace=True)', try using 'df.method({col: value}, inplace=True)' or df[col] = df[col].method(value) instead, to perform the operation inplace on the original object.\n",
      "\n",
      "\n",
      "  df['Salary'].fillna(df['Salary'].mean(), inplace=True)\n",
      "C:\\Users\\Fanuel\\AppData\\Local\\Temp\\ipykernel_15848\\2560028756.py:4: FutureWarning: A value is trying to be set on a copy of a DataFrame or Series through chained assignment using an inplace method.\n",
      "The behavior will change in pandas 3.0. This inplace method will never work because the intermediate object on which we are setting values always behaves as a copy.\n",
      "\n",
      "For example, when doing 'df[col].method(value, inplace=True)', try using 'df.method({col: value}, inplace=True)' or df[col] = df[col].method(value) instead, to perform the operation inplace on the original object.\n",
      "\n",
      "\n",
      "  df['Department_IT'].fillna('Unknown', inplace=True)\n",
      "C:\\Users\\Fanuel\\AppData\\Local\\Temp\\ipykernel_15848\\2560028756.py:4: FutureWarning: Setting an item of incompatible dtype is deprecated and will raise an error in a future version of pandas. Value 'Unknown' has dtype incompatible with float64, please explicitly cast to a compatible dtype first.\n",
      "  df['Department_IT'].fillna('Unknown', inplace=True)\n"
     ]
    }
   ],
   "source": [
    "# Step 1: Handling Missing Data\n",
    "df['Age'].fillna(df['Age'].median(), inplace=True)\n",
    "df['Salary'].fillna(df['Salary'].mean(), inplace=True)\n",
    "df['Department_IT'].fillna('Unknown', inplace=True)"
   ]
  },
  {
   "cell_type": "code",
   "execution_count": 18,
   "id": "88d87cce-83e9-41b6-8fc3-de27e14cacc0",
   "metadata": {},
   "outputs": [],
   "source": [
    "# Step 2: Removing Duplicates\n",
    "df.drop_duplicates(subset=['ID'], keep='first', inplace=True)"
   ]
  },
  {
   "cell_type": "code",
   "execution_count": 8,
   "id": "86a52ad2-b268-4e60-b73e-4fdbfe3ed730",
   "metadata": {},
   "outputs": [],
   "source": [
    "# Step 3: Standardizing Data Formats\n",
    "df['Name'] = df['Name'].str.strip()\n",
    "df['Country'] = df['Country'].str.lower().replace({'usa': 'united states', 'canada': 'canada', 'mexico': 'mexico'})\n",
    "df['Join_Date'] = pd.to_datetime(df['Join_Date'], errors='coerce')"
   ]
  },
  {
   "cell_type": "code",
   "execution_count": 9,
   "id": "f0c53e22-2d67-4ed8-b904-aacdf9555cd7",
   "metadata": {},
   "outputs": [],
   "source": [
    "# Step 4: Correcting Inconsistent Data\n",
    "df['Country'] = df['Country'].str.title()"
   ]
  },
  {
   "cell_type": "code",
   "execution_count": null,
   "id": "cbf2b265-b5f6-409d-949d-aae822b8fb49",
   "metadata": {},
   "outputs": [],
   "source": []
  },
  {
   "cell_type": "code",
   "execution_count": null,
   "id": "b2b9565e-7c94-43ae-a66d-414e1d4b5bb8",
   "metadata": {},
   "outputs": [],
   "source": [
    "# Step 5: Handling Outliers\n",
    "df.loc[df['Experience_Years'] < 0, 'Experience_Years'] = df['Experience_Years'].median()"
   ]
  },
  {
   "cell_type": "code",
   "execution_count": null,
   "id": "4306dec8-afb2-405c-a39f-564ddf799355",
   "metadata": {},
   "outputs": [],
   "source": []
  },
  {
   "cell_type": "code",
   "execution_count": 20,
   "id": "96e19b21-6d28-4b5b-8af5-20a928607be2",
   "metadata": {},
   "outputs": [
    {
     "data": {
      "text/html": [
       "<div>\n",
       "<style scoped>\n",
       "    .dataframe tbody tr th:only-of-type {\n",
       "        vertical-align: middle;\n",
       "    }\n",
       "\n",
       "    .dataframe tbody tr th {\n",
       "        vertical-align: top;\n",
       "    }\n",
       "\n",
       "    .dataframe thead th {\n",
       "        text-align: right;\n",
       "    }\n",
       "</style>\n",
       "<table border=\"1\" class=\"dataframe\">\n",
       "  <thead>\n",
       "    <tr style=\"text-align: right;\">\n",
       "      <th></th>\n",
       "      <th>ID</th>\n",
       "      <th>Name</th>\n",
       "      <th>Age</th>\n",
       "      <th>Salary</th>\n",
       "      <th>Join_Date</th>\n",
       "      <th>Country</th>\n",
       "      <th>Experience_Years</th>\n",
       "      <th>Department_Finance</th>\n",
       "      <th>Department_HR</th>\n",
       "      <th>Department_IT</th>\n",
       "      <th>Department_nan</th>\n",
       "    </tr>\n",
       "  </thead>\n",
       "  <tbody>\n",
       "    <tr>\n",
       "      <th>0</th>\n",
       "      <td>1002</td>\n",
       "      <td>David</td>\n",
       "      <td>35.0</td>\n",
       "      <td>1.000000</td>\n",
       "      <td>2020-12-05</td>\n",
       "      <td>United States</td>\n",
       "      <td>5</td>\n",
       "      <td>0</td>\n",
       "      <td>0</td>\n",
       "      <td>0.0</td>\n",
       "      <td>1</td>\n",
       "    </tr>\n",
       "    <tr>\n",
       "      <th>1</th>\n",
       "      <td>1003</td>\n",
       "      <td>Eve</td>\n",
       "      <td>25.0</td>\n",
       "      <td>0.333333</td>\n",
       "      <td>2020-12-05</td>\n",
       "      <td>Mexico</td>\n",
       "      <td>3</td>\n",
       "      <td>0</td>\n",
       "      <td>1</td>\n",
       "      <td>0.0</td>\n",
       "      <td>0</td>\n",
       "    </tr>\n",
       "    <tr>\n",
       "      <th>2</th>\n",
       "      <td>1005</td>\n",
       "      <td>Charlie</td>\n",
       "      <td>30.0</td>\n",
       "      <td>0.333333</td>\n",
       "      <td>2021-01-10</td>\n",
       "      <td>United States</td>\n",
       "      <td>5</td>\n",
       "      <td>0</td>\n",
       "      <td>0</td>\n",
       "      <td>0.0</td>\n",
       "      <td>1</td>\n",
       "    </tr>\n",
       "    <tr>\n",
       "      <th>3</th>\n",
       "      <td>1006</td>\n",
       "      <td>Eve</td>\n",
       "      <td>40.0</td>\n",
       "      <td>0.511167</td>\n",
       "      <td>2021-01-10</td>\n",
       "      <td>Canada</td>\n",
       "      <td>5</td>\n",
       "      <td>0</td>\n",
       "      <td>0</td>\n",
       "      <td>1.0</td>\n",
       "      <td>0</td>\n",
       "    </tr>\n",
       "    <tr>\n",
       "      <th>4</th>\n",
       "      <td>1007</td>\n",
       "      <td>Eve</td>\n",
       "      <td>30.0</td>\n",
       "      <td>0.511167</td>\n",
       "      <td>2021-03-15</td>\n",
       "      <td>Canada</td>\n",
       "      <td>3</td>\n",
       "      <td>0</td>\n",
       "      <td>0</td>\n",
       "      <td>1.0</td>\n",
       "      <td>0</td>\n",
       "    </tr>\n",
       "  </tbody>\n",
       "</table>\n",
       "</div>"
      ],
      "text/plain": [
       "     ID     Name   Age    Salary  Join_Date        Country  Experience_Years  \\\n",
       "0  1002    David  35.0  1.000000 2020-12-05  United States                 5   \n",
       "1  1003      Eve  25.0  0.333333 2020-12-05         Mexico                 3   \n",
       "2  1005  Charlie  30.0  0.333333 2021-01-10  United States                 5   \n",
       "3  1006      Eve  40.0  0.511167 2021-01-10         Canada                 5   \n",
       "4  1007      Eve  30.0  0.511167 2021-03-15         Canada                 3   \n",
       "\n",
       "   Department_Finance  Department_HR Department_IT  Department_nan  \n",
       "0                   0              0           0.0               1  \n",
       "1                   0              1           0.0               0  \n",
       "2                   0              0           0.0               1  \n",
       "3                   0              0           1.0               0  \n",
       "4                   0              0           1.0               0  "
      ]
     },
     "execution_count": 20,
     "metadata": {},
     "output_type": "execute_result"
    }
   ],
   "source": [
    "# Step 6: Normalizing & Scaling Data (Min-Max Scaling for Salary)\n",
    "df['Salary'] = (df['Salary'] - df['Salary'].min()) / (df['Salary'].max() - df['Salary'].min())\n",
    "\n",
    "df.head()"
   ]
  },
  {
   "cell_type": "code",
   "execution_count": 11,
   "id": "ca08a1ee-2215-4492-ba53-c6ee1a2d7605",
   "metadata": {},
   "outputs": [],
   "source": [
    "# Step 7: Encoding Categorical Data (One-Hot Encoding for Department)\n",
    "df = pd.get_dummies(df, columns=['Department_IT'])"
   ]
  },
  {
   "cell_type": "code",
   "execution_count": null,
   "id": "3958f350-efaa-4526-aaef-b7504e540731",
   "metadata": {},
   "outputs": [],
   "source": [
    "# Step 10: Data Validation & Quality Checks\n",
    "df.dropna(subset=['Join_Date'], inplace=True)  # Removing rows with invalid dates"
   ]
  },
  {
   "cell_type": "code",
   "execution_count": null,
   "id": "d62791bc-2f58-4208-a797-0c2c0bbe3cce",
   "metadata": {},
   "outputs": [],
   "source": [
    "# Display cleaned dataset\n",
    "print(df.head())\n",
    "print(df.shape)"
   ]
  },
  {
   "cell_type": "code",
   "execution_count": null,
   "id": "586ff50b-5515-47c2-8287-3c09261fcd89",
   "metadata": {},
   "outputs": [],
   "source": []
  },
  {
   "cell_type": "markdown",
   "id": "365a98a4-9156-492b-a59c-21367e3f8dca",
   "metadata": {},
   "source": [
    "# Exercises"
   ]
  },
  {
   "cell_type": "code",
   "execution_count": 95,
   "id": "18b7345e-04c0-4f5d-ab2f-7fac2ecfc7d7",
   "metadata": {},
   "outputs": [
    {
     "data": {
      "text/plain": [
       "1"
      ]
     },
     "execution_count": 95,
     "metadata": {},
     "output_type": "execute_result"
    }
   ],
   "source": [
    "# Data Cleaning Exercises\n",
    "\n",
    "import pandas as pd\n",
    "import numpy as np\n",
    "\n",
    "# Creating a sample dataset with data quality issues for exercises\n",
    "data = {\n",
    "    'ID': [101, 102, 103, 104, 105, 106, 107, 107],  # Duplicate ID\n",
    "    'Name': ['Alice', 'Bob', 'Charlie', 'David', 'Eve', 'Frank', 'Grace', 'Grace '],  # Extra space in last entry\n",
    "    'Age': [25, np.nan, 30, 45, 29, 35, 27, 27],  # Missing age value\n",
    "    'Salary': [50000, 60000, np.nan, 80000, 45000, 70000, 55000, 55000],  # Missing salary value\n",
    "    'Join_Date': ['2021-01-10', '2020-12-05', '2021-03-15', '2020-11-25', '2021-07-19', '2021-02-22', 'Invalid Date', '2021-08-30'],  # Invalid date format\n",
    "    'Country': ['USA', 'usa', 'United States', 'Canada', 'canada', 'Mexico', 'MEXICO', 'UK'],  # Inconsistent country names\n",
    "    'Department': ['HR', 'IT', 'HR', 'Finance', 'IT', np.nan, 'Finance', 'HR'],  # Missing department\n",
    "    'Experience_Years': [3, -1, 5, 10, 4, 7, 3, 3],  # Negative value error\n",
    "}\n",
    "dc= pd.DataFrame(data)\n",
    "duplicate_count = dc.duplicated('ID').sum()  \n",
    "duplicate_count\n",
    "\n",
    "\n"
   ]
  },
  {
   "cell_type": "markdown",
   "id": "12a4547e-6039-423c-b844-7ffa9714f3cc",
   "metadata": {},
   "source": [
    "## Exercise 1"
   ]
  },
  {
   "cell_type": "code",
   "execution_count": null,
   "id": "d9f89b07-bf4f-4b78-a75a-45d51ae1ef15",
   "metadata": {},
   "outputs": [],
   "source": []
  },
  {
   "cell_type": "markdown",
   "id": "37b4ce42-c8db-4ace-af36-f3483f9bb028",
   "metadata": {},
   "source": [
    "Identify and remove duplicate rows based on the 'ID' column"
   ]
  },
  {
   "cell_type": "code",
   "execution_count": 75,
   "id": "dd4696c2-4d9d-4afc-ba81-143fffd07a44",
   "metadata": {},
   "outputs": [
    {
     "name": "stdout",
     "output_type": "stream",
     "text": [
      "    ID     Name   Age    Salary  Join_Date        Country  Experience_Years  \\\n",
      "0  101    Alice  25.0  0.142857 2021-01-10            Usa                 3   \n",
      "2  103  Charlie  30.0  0.408163 2021-03-15  United States                 5   \n",
      "3  104    David  45.0  1.000000 2020-11-25         Canada                10   \n",
      "4  105      Eve  29.0  0.000000 2021-07-19         Canada                 4   \n",
      "5  106    Frank  35.0  0.714286 2021-02-22         Mexico                 7   \n",
      "6  107    Grace  27.0  0.285714        NaT         Mexico                 3   \n",
      "\n",
      "   Department_Finance  Department_HR  Department_IT  Department_Unknown  \n",
      "0               False           True          False               False  \n",
      "2               False           True          False               False  \n",
      "3                True          False          False               False  \n",
      "4               False          False           True               False  \n",
      "5               False          False          False                True  \n",
      "6                True          False          False               False  \n"
     ]
    }
   ],
   "source": [
    "dc.drop_duplicates(subset=[\"ID\"], keep=\"first\", inplace=True)\n",
    "print(dc.head(10))"
   ]
  },
  {
   "cell_type": "markdown",
   "id": "1aa96ff4-802e-43ee-9fb0-584c2c5cd44d",
   "metadata": {},
   "source": [
    "## Exercise 2"
   ]
  },
  {
   "cell_type": "markdown",
   "id": "23a92c3a-2254-4904-b9e8-e3c07c31a74b",
   "metadata": {},
   "source": [
    "Handle missing values in 'Age', 'Salary', and 'Department'."
   ]
  },
  {
   "cell_type": "code",
   "execution_count": 19,
   "id": "358d2ed8-3019-4720-86e2-b4459805e5f5",
   "metadata": {},
   "outputs": [
    {
     "data": {
      "text/plain": [
       "ID                  0\n",
       "Name                0\n",
       "Age                 1\n",
       "Salary              1\n",
       "Join_Date           0\n",
       "Country             0\n",
       "Department          1\n",
       "Experience_Years    0\n",
       "dtype: int64"
      ]
     },
     "execution_count": 19,
     "metadata": {},
     "output_type": "execute_result"
    }
   ],
   "source": [
    "missing_values = dc.isnull().sum()\n",
    "missing_values"
   ]
  },
  {
   "cell_type": "code",
   "execution_count": 79,
   "id": "034e1754-f8c8-4e6a-b114-e8108a67a81f",
   "metadata": {},
   "outputs": [
    {
     "name": "stderr",
     "output_type": "stream",
     "text": [
      "C:\\Users\\K00010213\\AppData\\Local\\Temp\\ipykernel_28712\\1618205415.py:1: FutureWarning: A value is trying to be set on a copy of a DataFrame or Series through chained assignment using an inplace method.\n",
      "The behavior will change in pandas 3.0. This inplace method will never work because the intermediate object on which we are setting values always behaves as a copy.\n",
      "\n",
      "For example, when doing 'df[col].method(value, inplace=True)', try using 'df.method({col: value}, inplace=True)' or df[col] = df[col].method(value) instead, to perform the operation inplace on the original object.\n",
      "\n",
      "\n",
      "  dc['Age'].fillna(dc['Age'].median(), inplace=True)\n",
      "C:\\Users\\K00010213\\AppData\\Local\\Temp\\ipykernel_28712\\1618205415.py:2: FutureWarning: A value is trying to be set on a copy of a DataFrame or Series through chained assignment using an inplace method.\n",
      "The behavior will change in pandas 3.0. This inplace method will never work because the intermediate object on which we are setting values always behaves as a copy.\n",
      "\n",
      "For example, when doing 'df[col].method(value, inplace=True)', try using 'df.method({col: value}, inplace=True)' or df[col] = df[col].method(value) instead, to perform the operation inplace on the original object.\n",
      "\n",
      "\n",
      "  dc['Salary'].fillna(dc['Salary'].mean(), inplace=True)\n"
     ]
    },
    {
     "ename": "KeyError",
     "evalue": "'Department'",
     "output_type": "error",
     "traceback": [
      "\u001b[1;31m---------------------------------------------------------------------------\u001b[0m",
      "\u001b[1;31mKeyError\u001b[0m                                  Traceback (most recent call last)",
      "File \u001b[1;32m~\\AppData\\Local\\anaconda3\\Lib\\site-packages\\pandas\\core\\indexes\\base.py:3805\u001b[0m, in \u001b[0;36mIndex.get_loc\u001b[1;34m(self, key)\u001b[0m\n\u001b[0;32m   3804\u001b[0m \u001b[38;5;28;01mtry\u001b[39;00m:\n\u001b[1;32m-> 3805\u001b[0m     \u001b[38;5;28;01mreturn\u001b[39;00m \u001b[38;5;28mself\u001b[39m\u001b[38;5;241m.\u001b[39m_engine\u001b[38;5;241m.\u001b[39mget_loc(casted_key)\n\u001b[0;32m   3806\u001b[0m \u001b[38;5;28;01mexcept\u001b[39;00m \u001b[38;5;167;01mKeyError\u001b[39;00m \u001b[38;5;28;01mas\u001b[39;00m err:\n",
      "File \u001b[1;32mindex.pyx:167\u001b[0m, in \u001b[0;36mpandas._libs.index.IndexEngine.get_loc\u001b[1;34m()\u001b[0m\n",
      "File \u001b[1;32mindex.pyx:196\u001b[0m, in \u001b[0;36mpandas._libs.index.IndexEngine.get_loc\u001b[1;34m()\u001b[0m\n",
      "File \u001b[1;32mpandas\\\\_libs\\\\hashtable_class_helper.pxi:7081\u001b[0m, in \u001b[0;36mpandas._libs.hashtable.PyObjectHashTable.get_item\u001b[1;34m()\u001b[0m\n",
      "File \u001b[1;32mpandas\\\\_libs\\\\hashtable_class_helper.pxi:7089\u001b[0m, in \u001b[0;36mpandas._libs.hashtable.PyObjectHashTable.get_item\u001b[1;34m()\u001b[0m\n",
      "\u001b[1;31mKeyError\u001b[0m: 'Department'",
      "\nThe above exception was the direct cause of the following exception:\n",
      "\u001b[1;31mKeyError\u001b[0m                                  Traceback (most recent call last)",
      "Cell \u001b[1;32mIn[79], line 3\u001b[0m\n\u001b[0;32m      1\u001b[0m dc[\u001b[38;5;124m'\u001b[39m\u001b[38;5;124mAge\u001b[39m\u001b[38;5;124m'\u001b[39m]\u001b[38;5;241m.\u001b[39mfillna(dc[\u001b[38;5;124m'\u001b[39m\u001b[38;5;124mAge\u001b[39m\u001b[38;5;124m'\u001b[39m]\u001b[38;5;241m.\u001b[39mmedian(), inplace\u001b[38;5;241m=\u001b[39m\u001b[38;5;28;01mTrue\u001b[39;00m)\n\u001b[0;32m      2\u001b[0m dc[\u001b[38;5;124m'\u001b[39m\u001b[38;5;124mSalary\u001b[39m\u001b[38;5;124m'\u001b[39m]\u001b[38;5;241m.\u001b[39mfillna(dc[\u001b[38;5;124m'\u001b[39m\u001b[38;5;124mSalary\u001b[39m\u001b[38;5;124m'\u001b[39m]\u001b[38;5;241m.\u001b[39mmean(), inplace\u001b[38;5;241m=\u001b[39m\u001b[38;5;28;01mTrue\u001b[39;00m)\n\u001b[1;32m----> 3\u001b[0m dc[\u001b[38;5;124m'\u001b[39m\u001b[38;5;124mDepartment\u001b[39m\u001b[38;5;124m'\u001b[39m]\u001b[38;5;241m.\u001b[39mfillna(\u001b[38;5;124m'\u001b[39m\u001b[38;5;124mUnknown\u001b[39m\u001b[38;5;124m'\u001b[39m, inplace\u001b[38;5;241m=\u001b[39m\u001b[38;5;28;01mTrue\u001b[39;00m)\n\u001b[0;32m      4\u001b[0m \u001b[38;5;28mprint\u001b[39m(dc\u001b[38;5;241m.\u001b[39mhead(\u001b[38;5;241m10\u001b[39m))\n",
      "File \u001b[1;32m~\\AppData\\Local\\anaconda3\\Lib\\site-packages\\pandas\\core\\frame.py:4102\u001b[0m, in \u001b[0;36mDataFrame.__getitem__\u001b[1;34m(self, key)\u001b[0m\n\u001b[0;32m   4100\u001b[0m \u001b[38;5;28;01mif\u001b[39;00m \u001b[38;5;28mself\u001b[39m\u001b[38;5;241m.\u001b[39mcolumns\u001b[38;5;241m.\u001b[39mnlevels \u001b[38;5;241m>\u001b[39m \u001b[38;5;241m1\u001b[39m:\n\u001b[0;32m   4101\u001b[0m     \u001b[38;5;28;01mreturn\u001b[39;00m \u001b[38;5;28mself\u001b[39m\u001b[38;5;241m.\u001b[39m_getitem_multilevel(key)\n\u001b[1;32m-> 4102\u001b[0m indexer \u001b[38;5;241m=\u001b[39m \u001b[38;5;28mself\u001b[39m\u001b[38;5;241m.\u001b[39mcolumns\u001b[38;5;241m.\u001b[39mget_loc(key)\n\u001b[0;32m   4103\u001b[0m \u001b[38;5;28;01mif\u001b[39;00m is_integer(indexer):\n\u001b[0;32m   4104\u001b[0m     indexer \u001b[38;5;241m=\u001b[39m [indexer]\n",
      "File \u001b[1;32m~\\AppData\\Local\\anaconda3\\Lib\\site-packages\\pandas\\core\\indexes\\base.py:3812\u001b[0m, in \u001b[0;36mIndex.get_loc\u001b[1;34m(self, key)\u001b[0m\n\u001b[0;32m   3807\u001b[0m     \u001b[38;5;28;01mif\u001b[39;00m \u001b[38;5;28misinstance\u001b[39m(casted_key, \u001b[38;5;28mslice\u001b[39m) \u001b[38;5;129;01mor\u001b[39;00m (\n\u001b[0;32m   3808\u001b[0m         \u001b[38;5;28misinstance\u001b[39m(casted_key, abc\u001b[38;5;241m.\u001b[39mIterable)\n\u001b[0;32m   3809\u001b[0m         \u001b[38;5;129;01mand\u001b[39;00m \u001b[38;5;28many\u001b[39m(\u001b[38;5;28misinstance\u001b[39m(x, \u001b[38;5;28mslice\u001b[39m) \u001b[38;5;28;01mfor\u001b[39;00m x \u001b[38;5;129;01min\u001b[39;00m casted_key)\n\u001b[0;32m   3810\u001b[0m     ):\n\u001b[0;32m   3811\u001b[0m         \u001b[38;5;28;01mraise\u001b[39;00m InvalidIndexError(key)\n\u001b[1;32m-> 3812\u001b[0m     \u001b[38;5;28;01mraise\u001b[39;00m \u001b[38;5;167;01mKeyError\u001b[39;00m(key) \u001b[38;5;28;01mfrom\u001b[39;00m \u001b[38;5;21;01merr\u001b[39;00m\n\u001b[0;32m   3813\u001b[0m \u001b[38;5;28;01mexcept\u001b[39;00m \u001b[38;5;167;01mTypeError\u001b[39;00m:\n\u001b[0;32m   3814\u001b[0m     \u001b[38;5;66;03m# If we have a listlike key, _check_indexing_error will raise\u001b[39;00m\n\u001b[0;32m   3815\u001b[0m     \u001b[38;5;66;03m#  InvalidIndexError. Otherwise we fall through and re-raise\u001b[39;00m\n\u001b[0;32m   3816\u001b[0m     \u001b[38;5;66;03m#  the TypeError.\u001b[39;00m\n\u001b[0;32m   3817\u001b[0m     \u001b[38;5;28mself\u001b[39m\u001b[38;5;241m.\u001b[39m_check_indexing_error(key)\n",
      "\u001b[1;31mKeyError\u001b[0m: 'Department'"
     ]
    }
   ],
   "source": [
    "dc['Age'].fillna(dc['Age'].median(), inplace=True)\n",
    "dc['Salary'].fillna(dc['Salary'].mean(), inplace=True)\n",
    "dc['Department'].fillna('Unknown', inplace=True)\n",
    "print(dc.head(10))"
   ]
  },
  {
   "cell_type": "markdown",
   "id": "40399716-a722-4306-8a87-eaa89dd6f40d",
   "metadata": {},
   "source": [
    "## Exercise 3"
   ]
  },
  {
   "cell_type": "markdown",
   "id": "005341ef-4d47-457f-a115-06e3d184e276",
   "metadata": {},
   "source": [
    "Standardize 'Country' names to maintain consistency"
   ]
  },
  {
   "cell_type": "code",
   "execution_count": 81,
   "id": "3ee5a5d0-79f5-4467-a552-13b1e3e2b40d",
   "metadata": {},
   "outputs": [
    {
     "name": "stdout",
     "output_type": "stream",
     "text": [
      "    ID     Name   Age    Salary  Join_Date        Country  Experience_Years  \\\n",
      "0  101    Alice  25.0  0.142857 2021-01-10            Usa                 3   \n",
      "2  103  Charlie  30.0  0.408163 2021-03-15  United States                 5   \n",
      "3  104    David  45.0  1.000000 2020-11-25         Canada                10   \n",
      "4  105      Eve  29.0  0.000000 2021-07-19         Canada                 4   \n",
      "5  106    Frank  35.0  0.714286 2021-02-22         Mexico                 7   \n",
      "6  107    Grace  27.0  0.285714        NaT         Mexico                 3   \n",
      "\n",
      "   Department_Finance  Department_HR  Department_IT  Department_Unknown  \n",
      "0               False           True          False               False  \n",
      "2               False           True          False               False  \n",
      "3                True          False          False               False  \n",
      "4               False          False           True               False  \n",
      "5               False          False          False                True  \n",
      "6                True          False          False               False  \n"
     ]
    }
   ],
   "source": [
    "dc['Country'] = dc['Country'].str.title()\n",
    "print(dc.head(20))"
   ]
  },
  {
   "cell_type": "markdown",
   "id": "82886ccd-9a4d-4021-b5e4-29ccd67db0e2",
   "metadata": {},
   "source": [
    "## Exercise 4"
   ]
  },
  {
   "cell_type": "markdown",
   "id": "77beb80c-4a3c-4bd0-bdb5-71be28caa224",
   "metadata": {},
   "source": [
    "Convert 'Join_Date' to datetime format, handling invalid entries"
   ]
  },
  {
   "cell_type": "code",
   "execution_count": 83,
   "id": "c4ee5cab-ef65-4a2c-9d0a-2018352062b9",
   "metadata": {},
   "outputs": [
    {
     "name": "stdout",
     "output_type": "stream",
     "text": [
      "    ID     Name   Age    Salary  Join_Date        Country  Experience_Years  \\\n",
      "0  101    Alice  25.0  0.142857 2021-01-10            Usa                 3   \n",
      "2  103  Charlie  30.0  0.408163 2021-03-15  United States                 5   \n",
      "3  104    David  45.0  1.000000 2020-11-25         Canada                10   \n",
      "4  105      Eve  29.0  0.000000 2021-07-19         Canada                 4   \n",
      "5  106    Frank  35.0  0.714286 2021-02-22         Mexico                 7   \n",
      "6  107    Grace  27.0  0.285714        NaT         Mexico                 3   \n",
      "\n",
      "   Department_Finance  Department_HR  Department_IT  Department_Unknown  \n",
      "0               False           True          False               False  \n",
      "2               False           True          False               False  \n",
      "3                True          False          False               False  \n",
      "4               False          False           True               False  \n",
      "5               False          False          False                True  \n",
      "6                True          False          False               False  \n"
     ]
    }
   ],
   "source": [
    "\n",
    "dc[\"Join_Date\"] = pd.to_datetime(dc[\"Join_Date\"],errors='coerce')\n",
    "print(dc.head(10))"
   ]
  },
  {
   "cell_type": "markdown",
   "id": "893e1f6f-233d-4e4d-bda7-3d1a833c0d41",
   "metadata": {},
   "source": [
    "## Exercise 5"
   ]
  },
  {
   "cell_type": "markdown",
   "id": "19a8e418-3ad1-45ee-a0c6-1f9a35783c26",
   "metadata": {},
   "source": [
    "Remove extra spaces in the 'Name' column."
   ]
  },
  {
   "cell_type": "code",
   "execution_count": 85,
   "id": "54a47bc7-d656-49e3-a8da-97fc2a809099",
   "metadata": {},
   "outputs": [
    {
     "name": "stdout",
     "output_type": "stream",
     "text": [
      "    ID     Name   Age    Salary  Join_Date        Country  Experience_Years  \\\n",
      "0  101    Alice  25.0  0.142857 2021-01-10            Usa                 3   \n",
      "2  103  Charlie  30.0  0.408163 2021-03-15  United States                 5   \n",
      "3  104    David  45.0  1.000000 2020-11-25         Canada                10   \n",
      "4  105      Eve  29.0  0.000000 2021-07-19         Canada                 4   \n",
      "5  106    Frank  35.0  0.714286 2021-02-22         Mexico                 7   \n",
      "6  107    Grace  27.0  0.285714        NaT         Mexico                 3   \n",
      "\n",
      "   Department_Finance  Department_HR  Department_IT  Department_Unknown  \n",
      "0               False           True          False               False  \n",
      "2               False           True          False               False  \n",
      "3                True          False          False               False  \n",
      "4               False          False           True               False  \n",
      "5               False          False          False                True  \n",
      "6                True          False          False               False  \n"
     ]
    }
   ],
   "source": [
    "dc['Name'] = dc['Name'].str.strip()\n",
    "print(dc.head(10))"
   ]
  },
  {
   "cell_type": "markdown",
   "id": "6517c370-f08a-421c-8927-a5991c725918",
   "metadata": {},
   "source": [
    "## Exercise 6"
   ]
  },
  {
   "cell_type": "markdown",
   "id": "5d00eb86-b912-4abf-b63f-8157a1106d12",
   "metadata": {},
   "source": [
    "Fix negative values in 'Experience_Years'"
   ]
  },
  {
   "cell_type": "code",
   "execution_count": 89,
   "id": "e97285ce-476d-4ec6-ab3e-9a8397e60b31",
   "metadata": {},
   "outputs": [
    {
     "name": "stdout",
     "output_type": "stream",
     "text": [
      "    ID     Name   Age    Salary  Join_Date        Country  Experience_Years  \\\n",
      "0  101    Alice  25.0  0.142857 2021-01-10            Usa                 3   \n",
      "2  103  Charlie  30.0  0.408163 2021-03-15  United States                 5   \n",
      "3  104    David  45.0  1.000000 2020-11-25         Canada                10   \n",
      "4  105      Eve  29.0  0.000000 2021-07-19         Canada                 4   \n",
      "5  106    Frank  35.0  0.714286 2021-02-22         Mexico                 7   \n",
      "6  107    Grace  27.0  0.285714        NaT         Mexico                 3   \n",
      "\n",
      "   Department_Finance  Department_HR  Department_IT  Department_Unknown  \n",
      "0               False           True          False               False  \n",
      "2               False           True          False               False  \n",
      "3                True          False          False               False  \n",
      "4               False          False           True               False  \n",
      "5               False          False          False                True  \n",
      "6                True          False          False               False  \n"
     ]
    }
   ],
   "source": [
    "dc['Experience_Years'] = dc['Experience_Years'].abs()\n",
    "print(dc.head(20))"
   ]
  },
  {
   "cell_type": "code",
   "execution_count": 63,
   "id": "ecd5210c-05b3-4af8-b302-a8bfd8851b99",
   "metadata": {},
   "outputs": [],
   "source": [
    "dc = dc[dc['Experience_Years'] >= 0]\n"
   ]
  },
  {
   "cell_type": "markdown",
   "id": "9905a5c7-b4a5-41cf-a10b-ddeaaa230fee",
   "metadata": {},
   "source": [
    "## Exercise 7"
   ]
  },
  {
   "cell_type": "markdown",
   "id": "b1662d87-2a42-45c5-9c89-67216727d004",
   "metadata": {},
   "source": [
    "Normalize 'Salary' using Min-Max scaling"
   ]
  },
  {
   "cell_type": "code",
   "execution_count": 91,
   "id": "ee72ff8a-a93f-46f1-8630-93a218fee390",
   "metadata": {},
   "outputs": [
    {
     "data": {
      "text/html": [
       "<div>\n",
       "<style scoped>\n",
       "    .dataframe tbody tr th:only-of-type {\n",
       "        vertical-align: middle;\n",
       "    }\n",
       "\n",
       "    .dataframe tbody tr th {\n",
       "        vertical-align: top;\n",
       "    }\n",
       "\n",
       "    .dataframe thead th {\n",
       "        text-align: right;\n",
       "    }\n",
       "</style>\n",
       "<table border=\"1\" class=\"dataframe\">\n",
       "  <thead>\n",
       "    <tr style=\"text-align: right;\">\n",
       "      <th></th>\n",
       "      <th>ID</th>\n",
       "      <th>Name</th>\n",
       "      <th>Age</th>\n",
       "      <th>Salary</th>\n",
       "      <th>Join_Date</th>\n",
       "      <th>Country</th>\n",
       "      <th>Experience_Years</th>\n",
       "      <th>Department_Finance</th>\n",
       "      <th>Department_HR</th>\n",
       "      <th>Department_IT</th>\n",
       "      <th>Department_Unknown</th>\n",
       "    </tr>\n",
       "  </thead>\n",
       "  <tbody>\n",
       "    <tr>\n",
       "      <th>0</th>\n",
       "      <td>101</td>\n",
       "      <td>Alice</td>\n",
       "      <td>25.0</td>\n",
       "      <td>0.142857</td>\n",
       "      <td>2021-01-10</td>\n",
       "      <td>Usa</td>\n",
       "      <td>3</td>\n",
       "      <td>False</td>\n",
       "      <td>True</td>\n",
       "      <td>False</td>\n",
       "      <td>False</td>\n",
       "    </tr>\n",
       "    <tr>\n",
       "      <th>2</th>\n",
       "      <td>103</td>\n",
       "      <td>Charlie</td>\n",
       "      <td>30.0</td>\n",
       "      <td>0.408163</td>\n",
       "      <td>2021-03-15</td>\n",
       "      <td>United States</td>\n",
       "      <td>5</td>\n",
       "      <td>False</td>\n",
       "      <td>True</td>\n",
       "      <td>False</td>\n",
       "      <td>False</td>\n",
       "    </tr>\n",
       "    <tr>\n",
       "      <th>3</th>\n",
       "      <td>104</td>\n",
       "      <td>David</td>\n",
       "      <td>45.0</td>\n",
       "      <td>1.000000</td>\n",
       "      <td>2020-11-25</td>\n",
       "      <td>Canada</td>\n",
       "      <td>10</td>\n",
       "      <td>True</td>\n",
       "      <td>False</td>\n",
       "      <td>False</td>\n",
       "      <td>False</td>\n",
       "    </tr>\n",
       "    <tr>\n",
       "      <th>4</th>\n",
       "      <td>105</td>\n",
       "      <td>Eve</td>\n",
       "      <td>29.0</td>\n",
       "      <td>0.000000</td>\n",
       "      <td>2021-07-19</td>\n",
       "      <td>Canada</td>\n",
       "      <td>4</td>\n",
       "      <td>False</td>\n",
       "      <td>False</td>\n",
       "      <td>True</td>\n",
       "      <td>False</td>\n",
       "    </tr>\n",
       "    <tr>\n",
       "      <th>5</th>\n",
       "      <td>106</td>\n",
       "      <td>Frank</td>\n",
       "      <td>35.0</td>\n",
       "      <td>0.714286</td>\n",
       "      <td>2021-02-22</td>\n",
       "      <td>Mexico</td>\n",
       "      <td>7</td>\n",
       "      <td>False</td>\n",
       "      <td>False</td>\n",
       "      <td>False</td>\n",
       "      <td>True</td>\n",
       "    </tr>\n",
       "  </tbody>\n",
       "</table>\n",
       "</div>"
      ],
      "text/plain": [
       "    ID     Name   Age    Salary  Join_Date        Country  Experience_Years  \\\n",
       "0  101    Alice  25.0  0.142857 2021-01-10            Usa                 3   \n",
       "2  103  Charlie  30.0  0.408163 2021-03-15  United States                 5   \n",
       "3  104    David  45.0  1.000000 2020-11-25         Canada                10   \n",
       "4  105      Eve  29.0  0.000000 2021-07-19         Canada                 4   \n",
       "5  106    Frank  35.0  0.714286 2021-02-22         Mexico                 7   \n",
       "\n",
       "   Department_Finance  Department_HR  Department_IT  Department_Unknown  \n",
       "0               False           True          False               False  \n",
       "2               False           True          False               False  \n",
       "3                True          False          False               False  \n",
       "4               False          False           True               False  \n",
       "5               False          False          False                True  "
      ]
     },
     "execution_count": 91,
     "metadata": {},
     "output_type": "execute_result"
    }
   ],
   "source": [
    "dc['Salary'] = (dc['Salary'] - dc['Salary'].min()) / (dc['Salary'].max() - dc['Salary'].min())\n",
    "\n",
    "dc.head()"
   ]
  },
  {
   "cell_type": "markdown",
   "id": "8bf2a4f6-4b33-43d5-9fa3-f9ae7b3093be",
   "metadata": {},
   "source": [
    "## Exercise 8"
   ]
  },
  {
   "cell_type": "markdown",
   "id": "8b421568-e225-4761-90c0-9120d9e06ab1",
   "metadata": {},
   "source": [
    "One-hot encode the 'Department' column"
   ]
  },
  {
   "cell_type": "code",
   "execution_count": 97,
   "id": "ef2f837a-52c7-4085-9746-770abaadcf37",
   "metadata": {},
   "outputs": [
    {
     "name": "stdout",
     "output_type": "stream",
     "text": [
      "    ID     Name   Age   Salary     Join_Date        Country  Experience_Years  \\\n",
      "0  101    Alice  25.0  50000.0    2021-01-10            USA                 3   \n",
      "1  102      Bob   NaN  60000.0    2020-12-05            usa                -1   \n",
      "2  103  Charlie  30.0      NaN    2021-03-15  United States                 5   \n",
      "3  104    David  45.0  80000.0    2020-11-25         Canada                10   \n",
      "4  105      Eve  29.0  45000.0    2021-07-19         canada                 4   \n",
      "5  106    Frank  35.0  70000.0    2021-02-22         Mexico                 7   \n",
      "6  107    Grace  27.0  55000.0  Invalid Date         MEXICO                 3   \n",
      "7  107   Grace   27.0  55000.0    2021-08-30             UK                 3   \n",
      "\n",
      "   Department_Finance  Department_HR  Department_IT  \n",
      "0               False           True          False  \n",
      "1               False          False           True  \n",
      "2               False           True          False  \n",
      "3                True          False          False  \n",
      "4               False          False           True  \n",
      "5               False          False          False  \n",
      "6                True          False          False  \n",
      "7               False           True          False  \n"
     ]
    }
   ],
   "source": [
    "dc = pd.get_dummies(dc, columns=['Department'])\n",
    "print(dc.head(11))"
   ]
  },
  {
   "cell_type": "markdown",
   "id": "c138eda4-23f9-4fb0-ac17-5ed3a6b1f165",
   "metadata": {},
   "source": [
    "## Exercise 9"
   ]
  },
  {
   "cell_type": "markdown",
   "id": "c60a8f07-1aa6-4785-a57f-b82ce3e993a3",
   "metadata": {},
   "source": [
    " Write a function that combines all the above processes"
   ]
  },
  {
   "cell_type": "code",
   "execution_count": 99,
   "id": "b2147d5a-1cb1-48fd-881e-9b5a74851604",
   "metadata": {},
   "outputs": [
    {
     "name": "stdout",
     "output_type": "stream",
     "text": [
      "    ID     Name   Age   Salary   Join_Date        Country  Experience_Years  \\\n",
      "0  101    Alice  25.0  50000.0  2021-01-10            USA                 3   \n",
      "1  102      Bob   NaN  60000.0  2020-12-05            usa                -1   \n",
      "2  103  Charlie  30.0      NaN  2021-03-15  United States                 5   \n",
      "3  104    David  45.0  80000.0  2020-11-25         Canada                10   \n",
      "4  105      Eve  29.0  45000.0  2021-07-19         canada                 4   \n",
      "\n",
      "   Department_Finance  Department_HR  Department_IT  \n",
      "0               False           True          False  \n",
      "1               False          False           True  \n",
      "2               False           True          False  \n",
      "3                True          False          False  \n",
      "4               False          False           True  \n",
      "(8, 10)\n"
     ]
    }
   ],
   "source": [
    "print(dc.head())\n",
    "print(dc.shape)"
   ]
  },
  {
   "cell_type": "code",
   "execution_count": 15,
   "id": "ae29d3a4-ecf4-4ab5-87e5-2ebd7a1bb243",
   "metadata": {},
   "outputs": [],
   "source": [
    "import pandas as pd\n",
    "import numpy as np\n",
    "\n",
    "# Creating a sample dataset with data quality issues for exercises\n",
    "data = {\n",
    "    'ID': [101, 102, 103, 104, 105, 106, 107, 107],  # Duplicate ID\n",
    "    'Name': ['Alice', 'Bob', 'Charlie', 'David', 'Eve', 'Frank', 'Grace', 'Grace '],  # Extra space in last entry\n",
    "    'Age': [25, np.nan, 30, 45, 29, 35, 27, 27],  # Missing age value\n",
    "    'Salary': [50000, 60000, np.nan, 80000, 45000, 70000, 55000, 55000],  # Missing salary value\n",
    "    'Join_Date': ['2021-01-10', '2020-12-05', '2021-03-15', '2020-11-25', '2021-07-19', '2021-02-22', 'Invalid Date', '2021-08-30'],  # Invalid date format\n",
    "    'Country': ['USA', 'usa', 'United States', 'Canada', 'canada', 'Mexico', 'MEXICO', 'UK'],  # Inconsistent country names\n",
    "    'Department': ['HR', 'IT', 'HR', 'Finance', 'IT', np.nan, 'Finance', 'HR'],  # Missing department\n",
    "    'Experience_Years': [3, -1, 5, 10, 4, 7, 3, 3],  # Negative value error\n",
    "}\n",
    "df = pd.DataFrame(data)\n",
    "df_cleaned = clean_and_transform_data(df)\n"
   ]
  },
  {
   "cell_type": "code",
   "execution_count": null,
   "id": "de455de8-a678-4fee-a43d-a388995518d3",
   "metadata": {},
   "outputs": [],
   "source": []
  }
 ],
 "metadata": {
  "kernelspec": {
   "display_name": "Python 3 (ipykernel)",
   "language": "python",
   "name": "python3"
  },
  "language_info": {
   "codemirror_mode": {
    "name": "ipython",
    "version": 3
   },
   "file_extension": ".py",
   "mimetype": "text/x-python",
   "name": "python",
   "nbconvert_exporter": "python",
   "pygments_lexer": "ipython3",
   "version": "3.12.4"
  }
 },
 "nbformat": 4,
 "nbformat_minor": 5
}
