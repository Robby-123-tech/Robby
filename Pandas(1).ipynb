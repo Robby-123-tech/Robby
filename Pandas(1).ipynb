{
 "cells": [
  {
   "cell_type": "markdown",
   "id": "32e7cab1-fc2d-4850-97d5-873babad8149",
   "metadata": {},
   "source": [
    "# Pandas Tutorial in Python"
   ]
  },
  {
   "cell_type": "markdown",
   "id": "883740e7-ab46-4acf-b305-90afc00b78ed",
   "metadata": {},
   "source": [
    "Pandas is a powerful Python library for data manipulation and analysis. It provides data structures like Series and DataFrame, making it easy to work with structured data."
   ]
  },
  {
   "cell_type": "markdown",
   "id": "9cb1c123-a8e4-42fe-a37a-56d627d4edb2",
   "metadata": {},
   "source": [
    "## Installing and Importing Pandas"
   ]
  },
  {
   "cell_type": "code",
   "execution_count": null,
   "id": "3f73f6b8-2b30-4b2b-b5a3-52f12a450ba1",
   "metadata": {},
   "outputs": [],
   "source": [
    "!pip install pandas # installing pandas"
   ]
  },
  {
   "cell_type": "code",
   "execution_count": 2,
   "id": "4449955f-fc1e-43bf-a4dd-8b0d70d8a849",
   "metadata": {},
   "outputs": [],
   "source": [
    "import pandas as pd # importing pandas"
   ]
  },
  {
   "cell_type": "markdown",
   "id": "fabd3520-d5bb-40dc-a7fd-d65f3a079446",
   "metadata": {},
   "source": [
    "## Pandas Data Structures"
   ]
  },
  {
   "cell_type": "markdown",
   "id": "ea40c072-a746-4a91-a1bc-70ce659ef02b",
   "metadata": {},
   "source": [
    "Pandas has two primary data structures:"
   ]
  },
  {
   "cell_type": "markdown",
   "id": "746b8e81-8954-4839-8790-2dca75b6f220",
   "metadata": {},
   "source": [
    "### 1. Series"
   ]
  },
  {
   "cell_type": "markdown",
   "id": "2ce8ff10-3c57-4c38-8e04-9c503f21bc20",
   "metadata": {},
   "source": [
    "A Series is a one-dimensional labeled array capable of holding any data type."
   ]
  },
  {
   "cell_type": "code",
   "execution_count": 3,
   "id": "630af62f-8310-4fb4-b1e0-20a308c77289",
   "metadata": {},
   "outputs": [
    {
     "name": "stdout",
     "output_type": "stream",
     "text": [
      "0    10\n",
      "1    20\n",
      "2    30\n",
      "3    40\n",
      "dtype: int64\n"
     ]
    }
   ],
   "source": [
    "# Creating a Series\n",
    "data = [10, 20, 30, 40]\n",
    "series = pd.Series(data)\n",
    "print(series)"
   ]
  },
  {
   "cell_type": "code",
   "execution_count": 4,
   "id": "57a6cbf1-923b-4a28-b97c-84dba8ee73f4",
   "metadata": {},
   "outputs": [
    {
     "name": "stdout",
     "output_type": "stream",
     "text": [
      "A    10\n",
      "B    20\n",
      "C    30\n",
      "D    40\n",
      "dtype: int64\n"
     ]
    }
   ],
   "source": [
    "# Adding an Index\n",
    "series_with_index = pd.Series(data, index=['A', 'B', 'C', 'D'])\n",
    "print(series_with_index)"
   ]
  },
  {
   "cell_type": "code",
   "execution_count": 5,
   "id": "2c3b1e83-d7b5-4c8a-b75e-16e21c89d879",
   "metadata": {},
   "outputs": [
    {
     "name": "stdout",
     "output_type": "stream",
     "text": [
      "10\n",
      "10\n"
     ]
    },
    {
     "name": "stderr",
     "output_type": "stream",
     "text": [
      "C:\\Users\\Fanuel\\AppData\\Local\\Temp\\ipykernel_22512\\2573868959.py:4: FutureWarning: Series.__getitem__ treating keys as positions is deprecated. In a future version, integer keys will always be treated as labels (consistent with DataFrame behavior). To access a value by position, use `ser.iloc[pos]`\n",
      "  print(series_with_index[0])    # Access first value\n"
     ]
    }
   ],
   "source": [
    "# Accessing Elements\n",
    "\n",
    "print(series_with_index['A'])  # Access value at index 'A'\n",
    "print(series_with_index[0])    # Access first value\n"
   ]
  },
  {
   "cell_type": "markdown",
   "id": "471f095d-df8b-4165-a79f-d4b9ceab60a1",
   "metadata": {},
   "source": [
    "### 2. DataFrame"
   ]
  },
  {
   "cell_type": "markdown",
   "id": "4042cd09-9843-4e0e-96ec-7a8daa55ab57",
   "metadata": {},
   "source": [
    "A DataFrame is a table similar to an Excel spreadsheet"
   ]
  },
  {
   "cell_type": "code",
   "execution_count": 8,
   "id": "ab5efece-0631-406f-86a1-adc4a85ab87a",
   "metadata": {},
   "outputs": [
    {
     "name": "stdout",
     "output_type": "stream",
     "text": [
      "      Name  Age     City\n",
      "0    Alice   25  Nairobi\n",
      "1      Bob   30  Mombasa\n",
      "2  Charlie   35   Kisumu\n"
     ]
    }
   ],
   "source": [
    "# Creating a DataFrame from a Dictionary\n",
    "data = {\n",
    "    'Name': ['Alice', 'Bob', 'Charlie'],\n",
    "    'Age': [25, 30, 35],\n",
    "    'City': ['Nairobi', 'Mombasa', 'Kisumu']\n",
    "}\n",
    "\n",
    "df = pd.DataFrame(data)\n",
    "print(df)"
   ]
  },
  {
   "cell_type": "markdown",
   "id": "037c7c5f-1d67-4faf-8760-6852268cd3b1",
   "metadata": {},
   "source": [
    "## Reading & Writing Data"
   ]
  },
  {
   "cell_type": "code",
   "execution_count": null,
   "id": "20d8a365-a97d-4770-b0cd-de416fb2a9dd",
   "metadata": {},
   "outputs": [],
   "source": [
    "# Reading Data\n",
    "df = pd.read_csv('data.csv')       # Read CSV file\n",
    "df = pd.read_excel('data.xlsx')    # Read Excel file\n",
    "df = pd.read_json('data.json')     # Read JSON file\n",
    "df = pd.read_sql(query, conn)      # Read SQL database"
   ]
  },
  {
   "cell_type": "code",
   "execution_count": null,
   "id": "938fbd58-cdd4-491d-9c9c-b6c596c3dc67",
   "metadata": {},
   "outputs": [],
   "source": [
    "# Writing Data\n",
    "\n",
    "df.to_csv('output.csv', index=False)   # Save as CSV\n",
    "df.to_excel('output.xlsx', index=False)  # Save as Excel\n",
    "df.to_json('output.json')  # Save as JSON"
   ]
  },
  {
   "cell_type": "code",
   "execution_count": null,
   "id": "8655262c-c4d2-4a8e-8f03-e822e5419335",
   "metadata": {},
   "outputs": [],
   "source": []
  },
  {
   "cell_type": "markdown",
   "id": "7a4b4860-57f3-49fd-ab7f-01678750055b",
   "metadata": {},
   "source": [
    "## Data Exploration"
   ]
  },
  {
   "cell_type": "code",
   "execution_count": null,
   "id": "946d44c1-0203-46bc-bf82-4dacef0b1ca1",
   "metadata": {},
   "outputs": [],
   "source": [
    "# Checking the First/Last Rows\n",
    "print(df.head())  # First 5 rows\n",
    "print(df.tail(3)) # Last 3 rows"
   ]
  },
  {
   "cell_type": "code",
   "execution_count": null,
   "id": "b4a3c69f-e008-4ac4-9cf6-798c9002fbc1",
   "metadata": {},
   "outputs": [],
   "source": [
    "# Getting Basic Info\n",
    "print(df.info())  # Summary of DataFrame\n",
    "print(df.describe())  # Statistics summary (numerical columns)\n",
    "print(df.shape)  # Rows and columns count\n",
    "print(df.columns)  # List column names\n",
    "print(df.dtypes)  # Data types of each column"
   ]
  },
  {
   "cell_type": "markdown",
   "id": "45d76fc6-b5ba-4cf5-8223-9b9bdfc5a049",
   "metadata": {},
   "source": [
    "## Selecting & Filtering Data"
   ]
  },
  {
   "cell_type": "code",
   "execution_count": 9,
   "id": "a50d1ce3-38e2-4c54-96d8-f5ef8e50c77d",
   "metadata": {},
   "outputs": [
    {
     "name": "stdout",
     "output_type": "stream",
     "text": [
      "0      Alice\n",
      "1        Bob\n",
      "2    Charlie\n",
      "Name: Name, dtype: object\n",
      "      Name  Age\n",
      "0    Alice   25\n",
      "1      Bob   30\n",
      "2  Charlie   35\n"
     ]
    }
   ],
   "source": [
    "# Selecting Columns\n",
    "print(df['Name'])   # Single column\n",
    "print(df[['Name', 'Age']])  # Multiple columns"
   ]
  },
  {
   "cell_type": "code",
   "execution_count": 10,
   "id": "5abccb86-2948-4ced-a404-f92e353f182f",
   "metadata": {},
   "outputs": [
    {
     "name": "stdout",
     "output_type": "stream",
     "text": [
      "Name      Alice\n",
      "Age          25\n",
      "City    Nairobi\n",
      "Name: 0, dtype: object\n",
      "Name        Bob\n",
      "Age          30\n",
      "City    Mombasa\n",
      "Name: 1, dtype: object\n"
     ]
    }
   ],
   "source": [
    "# Selecting Rows\n",
    "print(df.loc[0])   # Select row by index label\n",
    "print(df.iloc[1])  # Select row by integer position"
   ]
  },
  {
   "cell_type": "code",
   "execution_count": null,
   "id": "d4d6d2a9-1d9f-4677-8e5b-0a19af9ca106",
   "metadata": {},
   "outputs": [],
   "source": []
  },
  {
   "cell_type": "markdown",
   "id": "18bbb84f-9ff7-4f75-a247-501cb5cd7b11",
   "metadata": {},
   "source": [
    "## Filtering Rows"
   ]
  },
  {
   "cell_type": "code",
   "execution_count": 11,
   "id": "93b691f8-8986-4997-b468-783444c336e5",
   "metadata": {},
   "outputs": [
    {
     "name": "stdout",
     "output_type": "stream",
     "text": [
      "      Name  Age     City\n",
      "1      Bob   30  Mombasa\n",
      "2  Charlie   35   Kisumu\n",
      "Empty DataFrame\n",
      "Columns: [Name, Age, City]\n",
      "Index: []\n"
     ]
    }
   ],
   "source": [
    "print(df[df['Age'] > 25])  # Filter where Age > 25\n",
    "print(df[(df['Age'] > 25) & (df['City'] == 'Nairobi')])  # Multiple conditions"
   ]
  },
  {
   "cell_type": "code",
   "execution_count": null,
   "id": "a0165ca0-f69b-4f31-ad3c-86dcd6fb3777",
   "metadata": {},
   "outputs": [],
   "source": []
  },
  {
   "cell_type": "markdown",
   "id": "8c258351-ed97-46c6-b2c0-d2ad95186121",
   "metadata": {},
   "source": [
    "## Modifying Data"
   ]
  },
  {
   "cell_type": "code",
   "execution_count": 12,
   "id": "2a324d57-c2f9-4aee-80c7-2c8b2a21f0f5",
   "metadata": {},
   "outputs": [
    {
     "name": "stdout",
     "output_type": "stream",
     "text": [
      "      Name  Age     City  Salary\n",
      "0    Alice   25  Nairobi   50000\n",
      "1      Bob   30  Mombasa   60000\n",
      "2  Charlie   35   Kisumu   70000\n"
     ]
    }
   ],
   "source": [
    "# Adding a New Column\n",
    "\n",
    "df['Salary'] = [50000, 60000, 70000]\n",
    "print(df)"
   ]
  },
  {
   "cell_type": "code",
   "execution_count": 13,
   "id": "8c3ab48c-25e3-4f81-b273-c94fd859d82b",
   "metadata": {},
   "outputs": [
    {
     "name": "stdout",
     "output_type": "stream",
     "text": [
      "      Name  Age     City  Salary\n",
      "0    Alice   26  Nairobi   50000\n",
      "1      Bob   31  Mombasa   60000\n",
      "2  Charlie   36   Kisumu   70000\n"
     ]
    }
   ],
   "source": [
    "# Updating Column Values\n",
    "df['Age'] = df['Age'] + 1  # Increment Age by 1\n",
    "print(df)"
   ]
  },
  {
   "cell_type": "code",
   "execution_count": 14,
   "id": "d3f981c7-b463-43c5-a251-2734ddb9ac56",
   "metadata": {},
   "outputs": [
    {
     "name": "stdout",
     "output_type": "stream",
     "text": [
      "  Full Name  Age     City  Salary\n",
      "0     Alice   26  Nairobi   50000\n",
      "1       Bob   31  Mombasa   60000\n",
      "2   Charlie   36   Kisumu   70000\n"
     ]
    }
   ],
   "source": [
    "# Renaming Columns\n",
    "df.rename(columns={'Name': 'Full Name'}, inplace=True)\n",
    "print(df)"
   ]
  },
  {
   "cell_type": "code",
   "execution_count": 15,
   "id": "2d1bcb3e-5dc6-460a-8ae4-b7ae7f49656f",
   "metadata": {},
   "outputs": [],
   "source": [
    "# Dropping Columns & Rows\n",
    "df.drop(columns=['Salary'], inplace=True)  # Drop a column\n",
    "df.drop(index=1, inplace=True)"
   ]
  },
  {
   "cell_type": "code",
   "execution_count": null,
   "id": "7b2acfee-c7c8-4a4f-819a-7e1c575e6e5f",
   "metadata": {},
   "outputs": [],
   "source": []
  },
  {
   "cell_type": "markdown",
   "id": "22d1991e-1251-4b7d-929b-8238f4ac3439",
   "metadata": {},
   "source": [
    "# Exercises"
   ]
  },
  {
   "cell_type": "markdown",
   "id": "6a2dffc5-6af2-41af-9e76-a5aa08cd3f6d",
   "metadata": {},
   "source": [
    "## Create DataFrame"
   ]
  },
  {
   "cell_type": "markdown",
   "id": "8215b4e6-71a8-49c9-be94-56438e1a5558",
   "metadata": {},
   "source": [
    "Import Pandas and create a sample DataFrame"
   ]
  },
  {
   "cell_type": "code",
   "execution_count": null,
   "id": "74ac8caf-1836-48a8-87b6-6fd1ee5abf14",
   "metadata": {},
   "outputs": [],
   "source": [
    "import pandas as pd\n",
    "\n",
    "# Sample DataFrame\n",
    "data = {\n",
    "    'Employee_ID': [101, 102, 103, 104, 105, 106],\n",
    "    'Name': ['Alice', 'Bob', 'Charlie', 'David', 'Eve', 'Frank'],\n",
    "    'Department': ['HR', 'IT', 'IT', 'Finance', 'HR', 'Finance'],\n",
    "    'Age': [25, 30, 35, 40, 29, 45],\n",
    "    'Salary': [50000, 60000, 70000, 80000, 55000, 90000],\n",
    "    'Years_Experience': [2, 5, 7, 10, 3, 15]\n",
    "}\n",
    "\n",
    "df = pd.DataFrame(data)\n",
    "print(df)"
   ]
  },
  {
   "cell_type": "markdown",
   "id": "5ac38815-80fe-494c-b084-5c7702e16e2f",
   "metadata": {},
   "source": [
    "## Exercise 1"
   ]
  },
  {
   "cell_type": "markdown",
   "id": "4d1de447-2a8f-494d-a365-91dcd5e5a9c5",
   "metadata": {},
   "source": [
    "- Display the first 3 rows of the dataset.\n",
    "- Show the column names of the DataFrame.\n",
    "- Find the number of rows and columns in the dataset.\n",
    "- Check the data types of each column.\n",
    "- Get summary statistics of the numerical columns."
   ]
  },
  {
   "cell_type": "code",
   "execution_count": null,
   "id": "b6133eff-124a-46e7-af3e-d71babfd2b46",
   "metadata": {},
   "outputs": [],
   "source": [
    "print(\"\\n1. First 3 rows:\\n\", df.head(3))\n",
    "print(\"\\n2. Column names:\\n\", df.columns)\n",
    "print(\"\\n3. Number of rows and columns:\\n\", df.shape)\n",
    "print(\"\\n4. Data types:\\n\", df.dtypes)\n",
    "print(\"\\n5. Summary statistics:\\n\", df.describe())"
   ]
  },
  {
   "cell_type": "markdown",
   "id": "63ab11ff-6ba6-4dc4-802d-ca180fe61046",
   "metadata": {},
   "source": [
    "## Exercise 2"
   ]
  },
  {
   "cell_type": "markdown",
   "id": "545f913f-17a4-4891-9270-84ad2dfa172e",
   "metadata": {},
   "source": [
    "- Select and display only the \"Name\" and \"Department\" columns.\n",
    "- Retrieve all employees who work in the \"IT\" department.\n",
    "- Select employees whose salary is greater than 70,000.\n",
    "- Extract the name and age of employees who have more than 5 years of experience.\n",
    "- Retrieve employees who belong to either the \"HR\" or \"Finance\" department."
   ]
  },
  {
   "cell_type": "code",
   "execution_count": null,
   "id": "91d07353-ecf6-4f6e-baaa-b56c961bf714",
   "metadata": {},
   "outputs": [],
   "source": [
    "print(\"\\n6. Selected columns (Name, Department):\\n\", df[['Name', 'Department']])\n",
    "print(\"\\n7. Employees in IT department:\\n\", df[df['Department'] == 'IT'])\n",
    "print(\"\\n8. Employees with Salary > 70000:\\n\", df[df['Salary'] > 70000])\n",
    "print(\"\\n9. Employees with Experience > 5 Years:\\n\", df[df['Years_Experience'] > 5][['Name', 'Age']])\n",
    "print(\"\\n10. Employees in HR or Finance:\\n\", df[df['Department'].isin(['HR', 'Finance'])])"
   ]
  },
  {
   "cell_type": "markdown",
   "id": "3a72ea09-6d12-435c-aa4f-ac8d979daad7",
   "metadata": {},
   "source": [
    "## Exercise 3"
   ]
  },
  {
   "cell_type": "markdown",
   "id": "5a024ccb-f3a3-4cb2-aac1-b631dc9b3922",
   "metadata": {},
   "source": [
    "- Retrieve all employees whose age is between 30 and 40 (inclusive).\n",
    "- Find employees with more than 5 years of experience and a salary above 60,000.\n",
    "- Get employees whose names start with \"A\" or \"D\".\n",
    "- Retrieve all employees whose salary is either 55,000 or 90,000.\n",
    "- Select employees who are not in the \"IT\" department."
   ]
  },
  {
   "cell_type": "code",
   "execution_count": null,
   "id": "def6d55d-aa9e-4983-8e6d-303bd05feaff",
   "metadata": {},
   "outputs": [],
   "source": [
    "print(\"\\n11. Employees aged 30-40:\\n\", df[(df['Age'] >= 30) & (df['Age'] <= 40)])\n",
    "print(\"\\n12. Employees with Experience >5 years & Salary >60000:\\n\", df[(df['Years_Experience'] > 5) & (df['Salary'] > 60000)])\n",
    "print(\"\\n13. Employees with Name starting with A or D:\\n\", df[df['Name'].str.startswith(('A', 'D'))])\n",
    "print(\"\\n14. Employees with Salary of 55000 or 90000:\\n\", df[df['Salary'].isin([55000, 90000])])\n",
    "print(\"\\n15. Employees not in IT department:\\n\", df[df['Department'] != 'IT'])"
   ]
  },
  {
   "cell_type": "markdown",
   "id": "dfa57d86-e369-4ca3-ae1e-b2a17e47ba48",
   "metadata": {},
   "source": [
    "## Exercise 4"
   ]
  },
  {
   "cell_type": "markdown",
   "id": "e842aca5-65d5-4516-b99e-6f3c52ebc1c2",
   "metadata": {},
   "source": [
    "- Create a new column \"Bonus\", which is 10% of the Salary.\n",
    "- Increase the salary of all employees by 5%.\n",
    "- Rename the column \"Years_Experience\" to \"Experience_Years\".\n",
    "- Remove the column \"Employee_ID\" from the DataFrame.\n",
    "- Drop employees whose age is greater than 40."
   ]
  },
  {
   "cell_type": "code",
   "execution_count": null,
   "id": "c33209d9-069c-4312-89c4-59bd2a0e8d1d",
   "metadata": {},
   "outputs": [],
   "source": [
    "df['Bonus'] = df['Salary'] * 0.10  # 1. Create Bonus column\n",
    "df['Salary'] = df['Salary'] * 1.05  # 2. Increase salary by 5%\n",
    "df.rename(columns={'Years_Experience': 'Experience_Years'}, inplace=True)  # 3. Rename column\n",
    "df_without_id = df.drop(columns=['Employee_ID'])  # 4. Remove Employee_ID column\n",
    "df_filtered = df[df['Age'] <= 40]  # 5. Drop employees with age > 40\n",
    "\n",
    "print(\"\\n16. DataFrame with Bonus Column:\\n\", df)\n",
    "print(\"\\n17. DataFrame Without Employee_ID:\\n\", df_without_id)\n",
    "print(\"\\n18. DataFrame with Age <= 40:\\n\", df_filtered)"
   ]
  }
 ],
 "metadata": {
  "kernelspec": {
   "display_name": "Python 3 (ipykernel)",
   "language": "python",
   "name": "python3"
  },
  "language_info": {
   "codemirror_mode": {
    "name": "ipython",
    "version": 3
   },
   "file_extension": ".py",
   "mimetype": "text/x-python",
   "name": "python",
   "nbconvert_exporter": "python",
   "pygments_lexer": "ipython3",
   "version": "3.12.4"
  }
 },
 "nbformat": 4,
 "nbformat_minor": 5
}
